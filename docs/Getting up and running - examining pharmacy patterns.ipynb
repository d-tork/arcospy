{
 "cells": [
  {
   "cell_type": "markdown",
   "metadata": {},
   "source": [
    "# Welcome to `arcospy`!\n",
    "\n",
    "`arcospy` is the python sister software module to the original R arcos package maintained by the [Washington Post](https://github.com/wpinvestigative/arcos). Here we will demonstrate how to download some arcos data and how to make the data spatial. We also hint at some advanced usage! \n",
    "\n",
    "If you would like an introduction to the ARCOS data, check out the original *Washington Post* article [here](https://www.washingtonpost.com/graphics/2019/investigations/dea-pain-pill-database/). If you would like an introduction to working with `arcospy`, we recommend the notebook `Intro to arcospy - downloading data and making it spatial`.\n",
    "\n",
    "This notebook will focus on examining some basic use cases of the pharmacy data."
   ]
  },
  {
   "cell_type": "markdown",
   "metadata": {},
   "source": [
    "# Setting up the workspace\n",
    "\n",
    "As before, we want to make sure that `arcospy` is installed and that we can import the module."
   ]
  },
  {
   "cell_type": "code",
   "execution_count": 3,
   "metadata": {},
   "outputs": [
    {
     "name": "stdout",
     "output_type": "stream",
     "text": [
      "Requirement already satisfied: arcospy in c:\\users\\jeffe\\appdata\\local\\programs\\python\\python38\\lib\\site-packages (1.1.0)\n"
     ]
    }
   ],
   "source": [
    "!pip install arcospy\n",
    "import arcospy"
   ]
  },
  {
   "cell_type": "markdown",
   "metadata": {},
   "source": [
    "# Loading in the pharmacy data for an entire state\n",
    "\n",
    "Let's consider the pharmacy data for all the pharmacies in Minnesota. We can get this data using the `total_pharmacies_state()` command as below:"
   ]
  },
  {
   "cell_type": "code",
   "execution_count": 8,
   "metadata": {},
   "outputs": [
    {
     "data": {
      "text/html": [
       "<div>\n",
       "<style scoped>\n",
       "    .dataframe tbody tr th:only-of-type {\n",
       "        vertical-align: middle;\n",
       "    }\n",
       "\n",
       "    .dataframe tbody tr th {\n",
       "        vertical-align: top;\n",
       "    }\n",
       "\n",
       "    .dataframe thead th {\n",
       "        text-align: right;\n",
       "    }\n",
       "</style>\n",
       "<table border=\"1\" class=\"dataframe\">\n",
       "  <thead>\n",
       "    <tr style=\"text-align: right;\">\n",
       "      <th></th>\n",
       "      <th>buyer_state</th>\n",
       "      <th>buyer_county</th>\n",
       "      <th>buyer_dea_no</th>\n",
       "      <th>buyer_name</th>\n",
       "      <th>buyer_city</th>\n",
       "      <th>total_dosage_unit</th>\n",
       "      <th>total_records</th>\n",
       "    </tr>\n",
       "  </thead>\n",
       "  <tbody>\n",
       "    <tr>\n",
       "      <th>0</th>\n",
       "      <td>MN</td>\n",
       "      <td>HENNEPIN</td>\n",
       "      <td>BU6084177</td>\n",
       "      <td>OMNICARE - MINNESOTA</td>\n",
       "      <td>BROOKLYN CENTER</td>\n",
       "      <td>12602200</td>\n",
       "      <td>3081</td>\n",
       "    </tr>\n",
       "    <tr>\n",
       "      <th>1</th>\n",
       "      <td>MN</td>\n",
       "      <td>ANOKA</td>\n",
       "      <td>BP5822209</td>\n",
       "      <td>PHARMERICA</td>\n",
       "      <td>FRIDLEY</td>\n",
       "      <td>7196820</td>\n",
       "      <td>5785</td>\n",
       "    </tr>\n",
       "    <tr>\n",
       "      <th>2</th>\n",
       "      <td>MN</td>\n",
       "      <td>HENNEPIN</td>\n",
       "      <td>FH0062151</td>\n",
       "      <td>HCMC P-1 PHARMACY</td>\n",
       "      <td>MINNEAPOLIS</td>\n",
       "      <td>6016100</td>\n",
       "      <td>3439</td>\n",
       "    </tr>\n",
       "    <tr>\n",
       "      <th>3</th>\n",
       "      <td>MN</td>\n",
       "      <td>SAINT LOUIS</td>\n",
       "      <td>AW2819273</td>\n",
       "      <td>WALGREEN CO.</td>\n",
       "      <td>DULUTH</td>\n",
       "      <td>5682900</td>\n",
       "      <td>6490</td>\n",
       "    </tr>\n",
       "    <tr>\n",
       "      <th>4</th>\n",
       "      <td>MN</td>\n",
       "      <td>SAINT LOUIS</td>\n",
       "      <td>AW3645150</td>\n",
       "      <td>WALGREEN CO.</td>\n",
       "      <td>DULUTH</td>\n",
       "      <td>5589900</td>\n",
       "      <td>6686</td>\n",
       "    </tr>\n",
       "  </tbody>\n",
       "</table>\n",
       "</div>"
      ],
      "text/plain": [
       "  buyer_state buyer_county buyer_dea_no            buyer_name  \\\n",
       "0          MN     HENNEPIN    BU6084177  OMNICARE - MINNESOTA   \n",
       "1          MN        ANOKA    BP5822209            PHARMERICA   \n",
       "2          MN     HENNEPIN    FH0062151     HCMC P-1 PHARMACY   \n",
       "3          MN  SAINT LOUIS    AW2819273          WALGREEN CO.   \n",
       "4          MN  SAINT LOUIS    AW3645150          WALGREEN CO.   \n",
       "\n",
       "        buyer_city  total_dosage_unit  total_records  \n",
       "0  BROOKLYN CENTER           12602200           3081  \n",
       "1          FRIDLEY            7196820           5785  \n",
       "2      MINNEAPOLIS            6016100           3439  \n",
       "3           DULUTH            5682900           6490  \n",
       "4           DULUTH            5589900           6686  "
      ]
     },
     "execution_count": 8,
     "metadata": {},
     "output_type": "execute_result"
    }
   ],
   "source": [
    "MN_pharm = arcospy.total_pharmacies_state(state='MN', key='WaPo')\n",
    "MN_pharm.head()"
   ]
  },
  {
   "cell_type": "markdown",
   "metadata": {},
   "source": [
    "From here we are quite close to generating per-capita pharmaceutical counts. Although we have `total_dosage_units`, we still need county `population` to standardize the data. Let's grab it with the `county_population` command."
   ]
  },
  {
   "cell_type": "code",
   "execution_count": 11,
   "metadata": {},
   "outputs": [
    {
     "data": {
      "text/html": [
       "<div>\n",
       "<style scoped>\n",
       "    .dataframe tbody tr th:only-of-type {\n",
       "        vertical-align: middle;\n",
       "    }\n",
       "\n",
       "    .dataframe tbody tr th {\n",
       "        vertical-align: top;\n",
       "    }\n",
       "\n",
       "    .dataframe thead th {\n",
       "        text-align: right;\n",
       "    }\n",
       "</style>\n",
       "<table border=\"1\" class=\"dataframe\">\n",
       "  <thead>\n",
       "    <tr style=\"text-align: right;\">\n",
       "      <th></th>\n",
       "      <th>BUYER_COUNTY</th>\n",
       "      <th>BUYER_STATE</th>\n",
       "      <th>countyfips</th>\n",
       "      <th>STATE</th>\n",
       "      <th>COUNTY</th>\n",
       "      <th>county_name</th>\n",
       "      <th>NAME</th>\n",
       "      <th>variable</th>\n",
       "      <th>year</th>\n",
       "      <th>population</th>\n",
       "    </tr>\n",
       "  </thead>\n",
       "  <tbody>\n",
       "    <tr>\n",
       "      <th>778</th>\n",
       "      <td>WATONWAN</td>\n",
       "      <td>MN</td>\n",
       "      <td>27165</td>\n",
       "      <td>27</td>\n",
       "      <td>165</td>\n",
       "      <td>Watonwan</td>\n",
       "      <td>Watonwan County, Minnesota</td>\n",
       "      <td>B01003_001</td>\n",
       "      <td>2014</td>\n",
       "      <td>11151</td>\n",
       "    </tr>\n",
       "    <tr>\n",
       "      <th>779</th>\n",
       "      <td>WILKIN</td>\n",
       "      <td>MN</td>\n",
       "      <td>27167</td>\n",
       "      <td>27</td>\n",
       "      <td>167</td>\n",
       "      <td>Wilkin</td>\n",
       "      <td>Wilkin County, Minnesota</td>\n",
       "      <td>B01003_001</td>\n",
       "      <td>2014</td>\n",
       "      <td>6561</td>\n",
       "    </tr>\n",
       "    <tr>\n",
       "      <th>780</th>\n",
       "      <td>WINONA</td>\n",
       "      <td>MN</td>\n",
       "      <td>27169</td>\n",
       "      <td>27</td>\n",
       "      <td>169</td>\n",
       "      <td>Winona</td>\n",
       "      <td>Winona County, Minnesota</td>\n",
       "      <td>B01003_001</td>\n",
       "      <td>2014</td>\n",
       "      <td>51285</td>\n",
       "    </tr>\n",
       "    <tr>\n",
       "      <th>781</th>\n",
       "      <td>WRIGHT</td>\n",
       "      <td>MN</td>\n",
       "      <td>27171</td>\n",
       "      <td>27</td>\n",
       "      <td>171</td>\n",
       "      <td>Wright</td>\n",
       "      <td>Wright County, Minnesota</td>\n",
       "      <td>B01003_001</td>\n",
       "      <td>2014</td>\n",
       "      <td>127386</td>\n",
       "    </tr>\n",
       "    <tr>\n",
       "      <th>782</th>\n",
       "      <td>YELLOW MEDICINE</td>\n",
       "      <td>MN</td>\n",
       "      <td>27173</td>\n",
       "      <td>27</td>\n",
       "      <td>173</td>\n",
       "      <td>Yellow Medicine</td>\n",
       "      <td>Yellow Medicine County, Minnesota</td>\n",
       "      <td>B01003_001</td>\n",
       "      <td>2014</td>\n",
       "      <td>10233</td>\n",
       "    </tr>\n",
       "  </tbody>\n",
       "</table>\n",
       "</div>"
      ],
      "text/plain": [
       "        BUYER_COUNTY BUYER_STATE countyfips  STATE  COUNTY      county_name  \\\n",
       "778         WATONWAN          MN      27165     27     165         Watonwan   \n",
       "779           WILKIN          MN      27167     27     167           Wilkin   \n",
       "780           WINONA          MN      27169     27     169           Winona   \n",
       "781           WRIGHT          MN      27171     27     171           Wright   \n",
       "782  YELLOW MEDICINE          MN      27173     27     173  Yellow Medicine   \n",
       "\n",
       "                                  NAME    variable  year  population  \n",
       "778         Watonwan County, Minnesota  B01003_001  2014       11151  \n",
       "779           Wilkin County, Minnesota  B01003_001  2014        6561  \n",
       "780           Winona County, Minnesota  B01003_001  2014       51285  \n",
       "781           Wright County, Minnesota  B01003_001  2014      127386  \n",
       "782  Yellow Medicine County, Minnesota  B01003_001  2014       10233  "
      ]
     },
     "execution_count": 11,
     "metadata": {},
     "output_type": "execute_result"
    }
   ],
   "source": [
    "MN_county_pop = arcospy.county_population(state=\"MN\", key=\"WaPo\")\n",
    "MN_county_pop.tail()"
   ]
  },
  {
   "cell_type": "markdown",
   "metadata": {},
   "source": [
    "Note that this population data is available across several years."
   ]
  },
  {
   "cell_type": "code",
   "execution_count": 12,
   "metadata": {},
   "outputs": [
    {
     "data": {
      "text/plain": [
       "2014    87\n",
       "2013    87\n",
       "2012    87\n",
       "2011    87\n",
       "2010    87\n",
       "2009    87\n",
       "2008    87\n",
       "2007    87\n",
       "2006    87\n",
       "Name: year, dtype: int64"
      ]
     },
     "execution_count": 12,
     "metadata": {},
     "output_type": "execute_result"
    }
   ],
   "source": [
    "MN_county_pop.year.value_counts()"
   ]
  },
  {
   "cell_type": "markdown",
   "metadata": {},
   "source": [
    "So let's get the average population by county and year before merging it to the pharmacy data."
   ]
  },
  {
   "cell_type": "code",
   "execution_count": 16,
   "metadata": {},
   "outputs": [
    {
     "data": {
      "text/html": [
       "<div>\n",
       "<style scoped>\n",
       "    .dataframe tbody tr th:only-of-type {\n",
       "        vertical-align: middle;\n",
       "    }\n",
       "\n",
       "    .dataframe tbody tr th {\n",
       "        vertical-align: top;\n",
       "    }\n",
       "\n",
       "    .dataframe thead th {\n",
       "        text-align: right;\n",
       "    }\n",
       "</style>\n",
       "<table border=\"1\" class=\"dataframe\">\n",
       "  <thead>\n",
       "    <tr style=\"text-align: right;\">\n",
       "      <th></th>\n",
       "      <th>BUYER_COUNTY</th>\n",
       "      <th>STATE</th>\n",
       "      <th>COUNTY</th>\n",
       "      <th>year</th>\n",
       "      <th>population</th>\n",
       "    </tr>\n",
       "  </thead>\n",
       "  <tbody>\n",
       "    <tr>\n",
       "      <th>0</th>\n",
       "      <td>AITKIN</td>\n",
       "      <td>27.0</td>\n",
       "      <td>1.0</td>\n",
       "      <td>2010.0</td>\n",
       "      <td>16213.444444</td>\n",
       "    </tr>\n",
       "    <tr>\n",
       "      <th>1</th>\n",
       "      <td>ANOKA</td>\n",
       "      <td>27.0</td>\n",
       "      <td>3.0</td>\n",
       "      <td>2010.0</td>\n",
       "      <td>329144.000000</td>\n",
       "    </tr>\n",
       "    <tr>\n",
       "      <th>2</th>\n",
       "      <td>BECKER</td>\n",
       "      <td>27.0</td>\n",
       "      <td>5.0</td>\n",
       "      <td>2010.0</td>\n",
       "      <td>32371.333333</td>\n",
       "    </tr>\n",
       "    <tr>\n",
       "      <th>3</th>\n",
       "      <td>BELTRAMI</td>\n",
       "      <td>27.0</td>\n",
       "      <td>7.0</td>\n",
       "      <td>2010.0</td>\n",
       "      <td>44054.666667</td>\n",
       "    </tr>\n",
       "    <tr>\n",
       "      <th>4</th>\n",
       "      <td>BENTON</td>\n",
       "      <td>27.0</td>\n",
       "      <td>9.0</td>\n",
       "      <td>2010.0</td>\n",
       "      <td>38453.888889</td>\n",
       "    </tr>\n",
       "  </tbody>\n",
       "</table>\n",
       "</div>"
      ],
      "text/plain": [
       "  BUYER_COUNTY  STATE  COUNTY    year     population\n",
       "0       AITKIN   27.0     1.0  2010.0   16213.444444\n",
       "1        ANOKA   27.0     3.0  2010.0  329144.000000\n",
       "2       BECKER   27.0     5.0  2010.0   32371.333333\n",
       "3     BELTRAMI   27.0     7.0  2010.0   44054.666667\n",
       "4       BENTON   27.0     9.0  2010.0   38453.888889"
      ]
     },
     "execution_count": 16,
     "metadata": {},
     "output_type": "execute_result"
    }
   ],
   "source": [
    "MN_county_pop_avg = MN_county_pop.groupby('BUYER_COUNTY').mean().reset_index()\n",
    "MN_county_pop_avg.head()"
   ]
  },
  {
   "cell_type": "markdown",
   "metadata": {},
   "source": [
    "Great! We can now merge this information into the `MN_pharm` dataset."
   ]
  },
  {
   "cell_type": "code",
   "execution_count": 21,
   "metadata": {},
   "outputs": [
    {
     "data": {
      "text/html": [
       "<div>\n",
       "<style scoped>\n",
       "    .dataframe tbody tr th:only-of-type {\n",
       "        vertical-align: middle;\n",
       "    }\n",
       "\n",
       "    .dataframe tbody tr th {\n",
       "        vertical-align: top;\n",
       "    }\n",
       "\n",
       "    .dataframe thead th {\n",
       "        text-align: right;\n",
       "    }\n",
       "</style>\n",
       "<table border=\"1\" class=\"dataframe\">\n",
       "  <thead>\n",
       "    <tr style=\"text-align: right;\">\n",
       "      <th></th>\n",
       "      <th>buyer_state</th>\n",
       "      <th>buyer_county</th>\n",
       "      <th>buyer_dea_no</th>\n",
       "      <th>buyer_name</th>\n",
       "      <th>buyer_city</th>\n",
       "      <th>total_dosage_unit</th>\n",
       "      <th>total_records</th>\n",
       "      <th>BUYER_COUNTY</th>\n",
       "      <th>STATE</th>\n",
       "      <th>COUNTY</th>\n",
       "      <th>year</th>\n",
       "      <th>population</th>\n",
       "    </tr>\n",
       "  </thead>\n",
       "  <tbody>\n",
       "    <tr>\n",
       "      <th>0</th>\n",
       "      <td>MN</td>\n",
       "      <td>HENNEPIN</td>\n",
       "      <td>BU6084177</td>\n",
       "      <td>OMNICARE - MINNESOTA</td>\n",
       "      <td>BROOKLYN CENTER</td>\n",
       "      <td>12602200</td>\n",
       "      <td>3081</td>\n",
       "      <td>HENNEPIN</td>\n",
       "      <td>27.0</td>\n",
       "      <td>53.0</td>\n",
       "      <td>2010.0</td>\n",
       "      <td>1.145884e+06</td>\n",
       "    </tr>\n",
       "    <tr>\n",
       "      <th>1</th>\n",
       "      <td>MN</td>\n",
       "      <td>HENNEPIN</td>\n",
       "      <td>FH0062151</td>\n",
       "      <td>HCMC P-1 PHARMACY</td>\n",
       "      <td>MINNEAPOLIS</td>\n",
       "      <td>6016100</td>\n",
       "      <td>3439</td>\n",
       "      <td>HENNEPIN</td>\n",
       "      <td>27.0</td>\n",
       "      <td>53.0</td>\n",
       "      <td>2010.0</td>\n",
       "      <td>1.145884e+06</td>\n",
       "    </tr>\n",
       "    <tr>\n",
       "      <th>2</th>\n",
       "      <td>MN</td>\n",
       "      <td>HENNEPIN</td>\n",
       "      <td>BA9104112</td>\n",
       "      <td>ALLINA HEALTH HEART HOSPITAL PHARMACY</td>\n",
       "      <td>MINNEAPOLIS</td>\n",
       "      <td>4670744</td>\n",
       "      <td>4762</td>\n",
       "      <td>HENNEPIN</td>\n",
       "      <td>27.0</td>\n",
       "      <td>53.0</td>\n",
       "      <td>2010.0</td>\n",
       "      <td>1.145884e+06</td>\n",
       "    </tr>\n",
       "    <tr>\n",
       "      <th>3</th>\n",
       "      <td>MN</td>\n",
       "      <td>HENNEPIN</td>\n",
       "      <td>BF9051260</td>\n",
       "      <td>FAIRVIEW EDINA PHARMACY</td>\n",
       "      <td>EDINA</td>\n",
       "      <td>3901930</td>\n",
       "      <td>6381</td>\n",
       "      <td>HENNEPIN</td>\n",
       "      <td>27.0</td>\n",
       "      <td>53.0</td>\n",
       "      <td>2010.0</td>\n",
       "      <td>1.145884e+06</td>\n",
       "    </tr>\n",
       "    <tr>\n",
       "      <th>4</th>\n",
       "      <td>MN</td>\n",
       "      <td>HENNEPIN</td>\n",
       "      <td>BW2234829</td>\n",
       "      <td>WALGREEN CO.</td>\n",
       "      <td>MINNEAPOLIS</td>\n",
       "      <td>3468300</td>\n",
       "      <td>5325</td>\n",
       "      <td>HENNEPIN</td>\n",
       "      <td>27.0</td>\n",
       "      <td>53.0</td>\n",
       "      <td>2010.0</td>\n",
       "      <td>1.145884e+06</td>\n",
       "    </tr>\n",
       "  </tbody>\n",
       "</table>\n",
       "</div>"
      ],
      "text/plain": [
       "  buyer_state buyer_county buyer_dea_no  \\\n",
       "0          MN     HENNEPIN    BU6084177   \n",
       "1          MN     HENNEPIN    FH0062151   \n",
       "2          MN     HENNEPIN    BA9104112   \n",
       "3          MN     HENNEPIN    BF9051260   \n",
       "4          MN     HENNEPIN    BW2234829   \n",
       "\n",
       "                              buyer_name       buyer_city  total_dosage_unit  \\\n",
       "0                   OMNICARE - MINNESOTA  BROOKLYN CENTER           12602200   \n",
       "1                      HCMC P-1 PHARMACY      MINNEAPOLIS            6016100   \n",
       "2  ALLINA HEALTH HEART HOSPITAL PHARMACY      MINNEAPOLIS            4670744   \n",
       "3                FAIRVIEW EDINA PHARMACY            EDINA            3901930   \n",
       "4                           WALGREEN CO.      MINNEAPOLIS            3468300   \n",
       "\n",
       "   total_records BUYER_COUNTY  STATE  COUNTY    year    population  \n",
       "0           3081     HENNEPIN   27.0    53.0  2010.0  1.145884e+06  \n",
       "1           3439     HENNEPIN   27.0    53.0  2010.0  1.145884e+06  \n",
       "2           4762     HENNEPIN   27.0    53.0  2010.0  1.145884e+06  \n",
       "3           6381     HENNEPIN   27.0    53.0  2010.0  1.145884e+06  \n",
       "4           5325     HENNEPIN   27.0    53.0  2010.0  1.145884e+06  "
      ]
     },
     "execution_count": 21,
     "metadata": {},
     "output_type": "execute_result"
    }
   ],
   "source": [
    "import pandas as pd\n",
    "MN_merge = pd.merge(MN_pharm, MN_county_pop_avg, left_on='buyer_county', right_on='BUYER_COUNTY')\n",
    "MN_merge.head()"
   ]
  },
  {
   "cell_type": "markdown",
   "metadata": {},
   "source": [
    "Let's now calculate the number of pills per person per pharmacy averaged over the 9 year study period: \n",
    "\n",
    "*pills per person per pharmacy = total dosage unit / population / 9*\n",
    "\n",
    "In python:"
   ]
  },
  {
   "cell_type": "code",
   "execution_count": 25,
   "metadata": {},
   "outputs": [
    {
     "data": {
      "text/html": [
       "<div>\n",
       "<style scoped>\n",
       "    .dataframe tbody tr th:only-of-type {\n",
       "        vertical-align: middle;\n",
       "    }\n",
       "\n",
       "    .dataframe tbody tr th {\n",
       "        vertical-align: top;\n",
       "    }\n",
       "\n",
       "    .dataframe thead th {\n",
       "        text-align: right;\n",
       "    }\n",
       "</style>\n",
       "<table border=\"1\" class=\"dataframe\">\n",
       "  <thead>\n",
       "    <tr style=\"text-align: right;\">\n",
       "      <th></th>\n",
       "      <th>buyer_state</th>\n",
       "      <th>buyer_county</th>\n",
       "      <th>buyer_dea_no</th>\n",
       "      <th>buyer_name</th>\n",
       "      <th>buyer_city</th>\n",
       "      <th>total_dosage_unit</th>\n",
       "      <th>total_records</th>\n",
       "      <th>BUYER_COUNTY</th>\n",
       "      <th>STATE</th>\n",
       "      <th>COUNTY</th>\n",
       "      <th>year</th>\n",
       "      <th>population</th>\n",
       "      <th>pills_per_person</th>\n",
       "    </tr>\n",
       "  </thead>\n",
       "  <tbody>\n",
       "    <tr>\n",
       "      <th>0</th>\n",
       "      <td>MN</td>\n",
       "      <td>HENNEPIN</td>\n",
       "      <td>BU6084177</td>\n",
       "      <td>OMNICARE - MINNESOTA</td>\n",
       "      <td>BROOKLYN CENTER</td>\n",
       "      <td>12602200</td>\n",
       "      <td>3081</td>\n",
       "      <td>HENNEPIN</td>\n",
       "      <td>27.0</td>\n",
       "      <td>53.0</td>\n",
       "      <td>2010.0</td>\n",
       "      <td>1.145884e+06</td>\n",
       "      <td>1.221977</td>\n",
       "    </tr>\n",
       "    <tr>\n",
       "      <th>1</th>\n",
       "      <td>MN</td>\n",
       "      <td>HENNEPIN</td>\n",
       "      <td>FH0062151</td>\n",
       "      <td>HCMC P-1 PHARMACY</td>\n",
       "      <td>MINNEAPOLIS</td>\n",
       "      <td>6016100</td>\n",
       "      <td>3439</td>\n",
       "      <td>HENNEPIN</td>\n",
       "      <td>27.0</td>\n",
       "      <td>53.0</td>\n",
       "      <td>2010.0</td>\n",
       "      <td>1.145884e+06</td>\n",
       "      <td>0.583353</td>\n",
       "    </tr>\n",
       "    <tr>\n",
       "      <th>2</th>\n",
       "      <td>MN</td>\n",
       "      <td>HENNEPIN</td>\n",
       "      <td>BA9104112</td>\n",
       "      <td>ALLINA HEALTH HEART HOSPITAL PHARMACY</td>\n",
       "      <td>MINNEAPOLIS</td>\n",
       "      <td>4670744</td>\n",
       "      <td>4762</td>\n",
       "      <td>HENNEPIN</td>\n",
       "      <td>27.0</td>\n",
       "      <td>53.0</td>\n",
       "      <td>2010.0</td>\n",
       "      <td>1.145884e+06</td>\n",
       "      <td>0.452900</td>\n",
       "    </tr>\n",
       "    <tr>\n",
       "      <th>3</th>\n",
       "      <td>MN</td>\n",
       "      <td>HENNEPIN</td>\n",
       "      <td>BF9051260</td>\n",
       "      <td>FAIRVIEW EDINA PHARMACY</td>\n",
       "      <td>EDINA</td>\n",
       "      <td>3901930</td>\n",
       "      <td>6381</td>\n",
       "      <td>HENNEPIN</td>\n",
       "      <td>27.0</td>\n",
       "      <td>53.0</td>\n",
       "      <td>2010.0</td>\n",
       "      <td>1.145884e+06</td>\n",
       "      <td>0.378352</td>\n",
       "    </tr>\n",
       "    <tr>\n",
       "      <th>4</th>\n",
       "      <td>MN</td>\n",
       "      <td>HENNEPIN</td>\n",
       "      <td>BW2234829</td>\n",
       "      <td>WALGREEN CO.</td>\n",
       "      <td>MINNEAPOLIS</td>\n",
       "      <td>3468300</td>\n",
       "      <td>5325</td>\n",
       "      <td>HENNEPIN</td>\n",
       "      <td>27.0</td>\n",
       "      <td>53.0</td>\n",
       "      <td>2010.0</td>\n",
       "      <td>1.145884e+06</td>\n",
       "      <td>0.336305</td>\n",
       "    </tr>\n",
       "  </tbody>\n",
       "</table>\n",
       "</div>"
      ],
      "text/plain": [
       "  buyer_state buyer_county buyer_dea_no  \\\n",
       "0          MN     HENNEPIN    BU6084177   \n",
       "1          MN     HENNEPIN    FH0062151   \n",
       "2          MN     HENNEPIN    BA9104112   \n",
       "3          MN     HENNEPIN    BF9051260   \n",
       "4          MN     HENNEPIN    BW2234829   \n",
       "\n",
       "                              buyer_name       buyer_city  total_dosage_unit  \\\n",
       "0                   OMNICARE - MINNESOTA  BROOKLYN CENTER           12602200   \n",
       "1                      HCMC P-1 PHARMACY      MINNEAPOLIS            6016100   \n",
       "2  ALLINA HEALTH HEART HOSPITAL PHARMACY      MINNEAPOLIS            4670744   \n",
       "3                FAIRVIEW EDINA PHARMACY            EDINA            3901930   \n",
       "4                           WALGREEN CO.      MINNEAPOLIS            3468300   \n",
       "\n",
       "   total_records BUYER_COUNTY  STATE  COUNTY    year    population  \\\n",
       "0           3081     HENNEPIN   27.0    53.0  2010.0  1.145884e+06   \n",
       "1           3439     HENNEPIN   27.0    53.0  2010.0  1.145884e+06   \n",
       "2           4762     HENNEPIN   27.0    53.0  2010.0  1.145884e+06   \n",
       "3           6381     HENNEPIN   27.0    53.0  2010.0  1.145884e+06   \n",
       "4           5325     HENNEPIN   27.0    53.0  2010.0  1.145884e+06   \n",
       "\n",
       "   pills_per_person  \n",
       "0          1.221977  \n",
       "1          0.583353  \n",
       "2          0.452900  \n",
       "3          0.378352  \n",
       "4          0.336305  "
      ]
     },
     "execution_count": 25,
     "metadata": {},
     "output_type": "execute_result"
    }
   ],
   "source": [
    "MN_merge['pills_per_person'] = MN_merge['total_dosage_unit']/MN_merge['population']/9\n",
    "MN_merge.head()"
   ]
  },
  {
   "cell_type": "markdown",
   "metadata": {},
   "source": [
    "Note that the resulting numbers are small because we are in Hennepin County, MN, one of the most densely populated counties in Minnesota. If we look at the maximum value for a given pharmacy across MN, that number jumps up quite a bit:"
   ]
  },
  {
   "cell_type": "code",
   "execution_count": 26,
   "metadata": {},
   "outputs": [
    {
     "data": {
      "text/plain": [
       "buyer_state                          MN\n",
       "buyer_county                       COOK\n",
       "buyer_dea_no                  FA0259071\n",
       "buyer_name           ARROWHEAD PHARMACY\n",
       "buyer_city                 GRAND MARAIS\n",
       "total_dosage_unit                939040\n",
       "total_records                      2164\n",
       "BUYER_COUNTY                       COOK\n",
       "STATE                                27\n",
       "COUNTY                               31\n",
       "year                               2010\n",
       "population                         5235\n",
       "pills_per_person                19.9308\n",
       "Name: 1756, dtype: object"
      ]
     },
     "execution_count": 26,
     "metadata": {},
     "output_type": "execute_result"
    }
   ],
   "source": [
    "MN_merge.iloc[MN_merge['pills_per_person'].idxmax()] "
   ]
  },
  {
   "cell_type": "markdown",
   "metadata": {},
   "source": [
    "The above suggests that there were nearly 20 pills per person (for over 5000 people!) for the above record. But is this value an extreme outlier? Let's look at the distribution of the `pills_per_person` column:"
   ]
  },
  {
   "cell_type": "code",
   "execution_count": 31,
   "metadata": {},
   "outputs": [
    {
     "data": {
      "image/png": "[encoded data removed]",
      "text/plain": [
       "<Figure size 432x288 with 1 Axes>"
      ]
     },
     "metadata": {},
     "output_type": "display_data"
    }
   ],
   "source": [
    "import matplotlib.pyplot as plt\n",
    "plt.style.use('ggplot')\n",
    "plt.hist(MN_merge['pills_per_person'], \n",
    "         bins=[0, 1, 2, 3, 4, 5, 6, 7, 8, 9, 10,\n",
    "               11, 12, 13, 14, 15, 16, 17, 18, 19, 20])\n",
    "plt.show()"
   ]
  },
  {
   "cell_type": "markdown",
   "metadata": {},
   "source": [
    "We can see that the 19.93 value from the above record seems to be an extreme outlier compared to the rest of the the data in Minnesota. "
   ]
  },
  {
   "cell_type": "markdown",
   "metadata": {},
   "source": [
    "# Mapping the pharmacy data"
   ]
  },
  {
   "cell_type": "markdown",
   "metadata": {},
   "source": [
    "Perhaps a better way to visualize the distribution of the data is via a [proportional symbol map](http://wiki.gis.com/wiki/index.php/Proportional_symbol_map). Let's gather the Lat and Lon of each pharmacy using the `pharm_latlon` command.\n",
    "\n",
    "Unfortunately, this function is limited to one county at a time. We will use a loop to quickly build the necessary dataframe."
   ]
  },
  {
   "cell_type": "code",
   "execution_count": 39,
   "metadata": {},
   "outputs": [],
   "source": [
    "MN_Counties = ['Aitkin', 'Anoka', 'Becker', 'Beltrami', 'Benton', 'Big Stone', 'Blue Earth', 'Brown', \n",
    "               'Carlton', 'Carver', 'Cass', 'Chippewa','Chisago','Clay','Clearwater','Cook','Cottonwood',\n",
    "               'Crow Wing','Dakota','Dodge','Douglas','Faribault','Fillmore','Freeborn','Goodhue','Grant',\n",
    "               'Hennepin','Houston','Hubbard','Isanti','Itasca','Jackson','Kanabec','Kandiyohi','Kittson',\n",
    "               'Koochiching','Lac Qui Parle','Lake','Lake Of The Wood','Le Sueur','Lincoln','Lyon','Mahnomen',\n",
    "               'Marshall','Martin','McLeod','Meeker','Mille Lacs','Morrison','Mower','Murray','Nicollet','Nobles',\n",
    "               'Norman','Olmsted','Otter Tail','Pennington','Pine','Pipestone','Polk','Pope','Ramsey','Red Lake',\n",
    "               'Redwood','Renville','Rice','Rock','Roseau','St. Louis','Scott','Sherburne','Sibley','Stearns',\n",
    "               'Steele','Stevens','Swift','Todd','Traverse','Wabasha','Wadena','Waseca','Washington','Watonwan',\n",
    "               'Wilkin','Winona','Wright','Yellow Medicine']"
   ]
  },
  {
   "cell_type": "code",
   "execution_count": 38,
   "metadata": {},
   "outputs": [],
   "source": [
    "# Build an empty dataframe\n",
    "MN_pharm_latlon = pd.DataFrame()"
   ]
  },
  {
   "cell_type": "code",
   "execution_count": 48,
   "metadata": {},
   "outputs": [],
   "source": [
    "for i in MN_Counties:\n",
    "    try:\n",
    "        temp = arcospy.pharm_latlon(county = i, state = 'MN', key = 'WaPo')\n",
    "        MN_pharm_latlon = MN_pharm_latlon.append(temp)\n",
    "    except:\n",
    "        pass"
   ]
  },
  {
   "cell_type": "code",
   "execution_count": 52,
   "metadata": {},
   "outputs": [
    {
     "data": {
      "text/html": [
       "<div>\n",
       "<style scoped>\n",
       "    .dataframe tbody tr th:only-of-type {\n",
       "        vertical-align: middle;\n",
       "    }\n",
       "\n",
       "    .dataframe tbody tr th {\n",
       "        vertical-align: top;\n",
       "    }\n",
       "\n",
       "    .dataframe thead th {\n",
       "        text-align: right;\n",
       "    }\n",
       "</style>\n",
       "<table border=\"1\" class=\"dataframe\">\n",
       "  <thead>\n",
       "    <tr style=\"text-align: right;\">\n",
       "      <th></th>\n",
       "      <th>BUYER_DEA_NO</th>\n",
       "      <th>BUYER_STATE</th>\n",
       "      <th>BUYER_COUNTY</th>\n",
       "      <th>lat</th>\n",
       "      <th>lon</th>\n",
       "      <th>error</th>\n",
       "    </tr>\n",
       "  </thead>\n",
       "  <tbody>\n",
       "    <tr>\n",
       "      <th>0</th>\n",
       "      <td>BS6420804</td>\n",
       "      <td>MN</td>\n",
       "      <td>AITKIN</td>\n",
       "      <td>46.6099</td>\n",
       "      <td>-93.3139</td>\n",
       "      <td>NaN</td>\n",
       "    </tr>\n",
       "    <tr>\n",
       "      <th>1</th>\n",
       "      <td>FT2421547</td>\n",
       "      <td>MN</td>\n",
       "      <td>AITKIN</td>\n",
       "      <td>46.6099</td>\n",
       "      <td>-93.3139</td>\n",
       "      <td>NaN</td>\n",
       "    </tr>\n",
       "    <tr>\n",
       "      <th>2</th>\n",
       "      <td>AH1521853</td>\n",
       "      <td>MN</td>\n",
       "      <td>AITKIN</td>\n",
       "      <td>46.5328</td>\n",
       "      <td>-93.7056</td>\n",
       "      <td>NaN</td>\n",
       "    </tr>\n",
       "    <tr>\n",
       "      <th>3</th>\n",
       "      <td>FG4033940</td>\n",
       "      <td>MN</td>\n",
       "      <td>AITKIN</td>\n",
       "      <td>46.5328</td>\n",
       "      <td>-93.7056</td>\n",
       "      <td>NaN</td>\n",
       "    </tr>\n",
       "    <tr>\n",
       "      <th>4</th>\n",
       "      <td>FT2421561</td>\n",
       "      <td>MN</td>\n",
       "      <td>AITKIN</td>\n",
       "      <td>46.5328</td>\n",
       "      <td>-93.7056</td>\n",
       "      <td>NaN</td>\n",
       "    </tr>\n",
       "  </tbody>\n",
       "</table>\n",
       "</div>"
      ],
      "text/plain": [
       "  BUYER_DEA_NO BUYER_STATE BUYER_COUNTY      lat      lon error\n",
       "0    BS6420804          MN       AITKIN  46.6099 -93.3139   NaN\n",
       "1    FT2421547          MN       AITKIN  46.6099 -93.3139   NaN\n",
       "2    AH1521853          MN       AITKIN  46.5328 -93.7056   NaN\n",
       "3    FG4033940          MN       AITKIN  46.5328 -93.7056   NaN\n",
       "4    FT2421561          MN       AITKIN  46.5328 -93.7056   NaN"
      ]
     },
     "execution_count": 52,
     "metadata": {},
     "output_type": "execute_result"
    }
   ],
   "source": [
    "MN_pharm_latlon.head()"
   ]
  },
  {
   "cell_type": "markdown",
   "metadata": {},
   "source": [
    "Let's merge the Lat and Lon data onto the existing `MN_merge` data object. "
   ]
  },
  {
   "cell_type": "code",
   "execution_count": 68,
   "metadata": {},
   "outputs": [
    {
     "data": {
      "text/html": [
       "<div>\n",
       "<style scoped>\n",
       "    .dataframe tbody tr th:only-of-type {\n",
       "        vertical-align: middle;\n",
       "    }\n",
       "\n",
       "    .dataframe tbody tr th {\n",
       "        vertical-align: top;\n",
       "    }\n",
       "\n",
       "    .dataframe thead th {\n",
       "        text-align: right;\n",
       "    }\n",
       "</style>\n",
       "<table border=\"1\" class=\"dataframe\">\n",
       "  <thead>\n",
       "    <tr style=\"text-align: right;\">\n",
       "      <th></th>\n",
       "      <th>buyer_state</th>\n",
       "      <th>buyer_county</th>\n",
       "      <th>buyer_dea_no</th>\n",
       "      <th>buyer_name</th>\n",
       "      <th>buyer_city</th>\n",
       "      <th>total_dosage_unit</th>\n",
       "      <th>total_records</th>\n",
       "      <th>BUYER_COUNTY_x</th>\n",
       "      <th>STATE</th>\n",
       "      <th>COUNTY</th>\n",
       "      <th>year</th>\n",
       "      <th>population</th>\n",
       "      <th>pills_per_person</th>\n",
       "      <th>BUYER_DEA_NO</th>\n",
       "      <th>BUYER_STATE</th>\n",
       "      <th>BUYER_COUNTY_y</th>\n",
       "      <th>lat</th>\n",
       "      <th>lon</th>\n",
       "      <th>error</th>\n",
       "    </tr>\n",
       "  </thead>\n",
       "  <tbody>\n",
       "    <tr>\n",
       "      <th>0</th>\n",
       "      <td>MN</td>\n",
       "      <td>HENNEPIN</td>\n",
       "      <td>BU6084177</td>\n",
       "      <td>OMNICARE - MINNESOTA</td>\n",
       "      <td>BROOKLYN CENTER</td>\n",
       "      <td>12602200</td>\n",
       "      <td>3081</td>\n",
       "      <td>HENNEPIN</td>\n",
       "      <td>27.0</td>\n",
       "      <td>53.0</td>\n",
       "      <td>2010.0</td>\n",
       "      <td>1.145884e+06</td>\n",
       "      <td>1.221977</td>\n",
       "      <td>BU6084177</td>\n",
       "      <td>MN</td>\n",
       "      <td>HENNEPIN</td>\n",
       "      <td>45.0424</td>\n",
       "      <td>-93.3329</td>\n",
       "      <td>NaN</td>\n",
       "    </tr>\n",
       "    <tr>\n",
       "      <th>1</th>\n",
       "      <td>MN</td>\n",
       "      <td>HENNEPIN</td>\n",
       "      <td>FH0062151</td>\n",
       "      <td>HCMC P-1 PHARMACY</td>\n",
       "      <td>MINNEAPOLIS</td>\n",
       "      <td>6016100</td>\n",
       "      <td>3439</td>\n",
       "      <td>HENNEPIN</td>\n",
       "      <td>27.0</td>\n",
       "      <td>53.0</td>\n",
       "      <td>2010.0</td>\n",
       "      <td>1.145884e+06</td>\n",
       "      <td>0.583353</td>\n",
       "      <td>FH0062151</td>\n",
       "      <td>MN</td>\n",
       "      <td>HENNEPIN</td>\n",
       "      <td>44.9725</td>\n",
       "      <td>-93.2622</td>\n",
       "      <td>NaN</td>\n",
       "    </tr>\n",
       "    <tr>\n",
       "      <th>2</th>\n",
       "      <td>MN</td>\n",
       "      <td>HENNEPIN</td>\n",
       "      <td>BF9051260</td>\n",
       "      <td>FAIRVIEW EDINA PHARMACY</td>\n",
       "      <td>EDINA</td>\n",
       "      <td>3901930</td>\n",
       "      <td>6381</td>\n",
       "      <td>HENNEPIN</td>\n",
       "      <td>27.0</td>\n",
       "      <td>53.0</td>\n",
       "      <td>2010.0</td>\n",
       "      <td>1.145884e+06</td>\n",
       "      <td>0.378352</td>\n",
       "      <td>BF9051260</td>\n",
       "      <td>MN</td>\n",
       "      <td>HENNEPIN</td>\n",
       "      <td>44.8869</td>\n",
       "      <td>-93.3262</td>\n",
       "      <td>NaN</td>\n",
       "    </tr>\n",
       "    <tr>\n",
       "      <th>3</th>\n",
       "      <td>MN</td>\n",
       "      <td>HENNEPIN</td>\n",
       "      <td>BW2234829</td>\n",
       "      <td>WALGREEN CO.</td>\n",
       "      <td>MINNEAPOLIS</td>\n",
       "      <td>3468300</td>\n",
       "      <td>5325</td>\n",
       "      <td>HENNEPIN</td>\n",
       "      <td>27.0</td>\n",
       "      <td>53.0</td>\n",
       "      <td>2010.0</td>\n",
       "      <td>1.145884e+06</td>\n",
       "      <td>0.336305</td>\n",
       "      <td>BW2234829</td>\n",
       "      <td>MN</td>\n",
       "      <td>HENNEPIN</td>\n",
       "      <td>44.9204</td>\n",
       "      <td>-93.2185</td>\n",
       "      <td>NaN</td>\n",
       "    </tr>\n",
       "    <tr>\n",
       "      <th>4</th>\n",
       "      <td>MN</td>\n",
       "      <td>HENNEPIN</td>\n",
       "      <td>BF9051359</td>\n",
       "      <td>FAIRVIEW RIVERSIDE PHARMACY</td>\n",
       "      <td>MINNEAPOLIS</td>\n",
       "      <td>3411700</td>\n",
       "      <td>6412</td>\n",
       "      <td>HENNEPIN</td>\n",
       "      <td>27.0</td>\n",
       "      <td>53.0</td>\n",
       "      <td>2010.0</td>\n",
       "      <td>1.145884e+06</td>\n",
       "      <td>0.330817</td>\n",
       "      <td>BF9051359</td>\n",
       "      <td>MN</td>\n",
       "      <td>HENNEPIN</td>\n",
       "      <td>44.9672</td>\n",
       "      <td>-93.2382</td>\n",
       "      <td>NaN</td>\n",
       "    </tr>\n",
       "  </tbody>\n",
       "</table>\n",
       "</div>"
      ],
      "text/plain": [
       "  buyer_state buyer_county buyer_dea_no                   buyer_name  \\\n",
       "0          MN     HENNEPIN    BU6084177         OMNICARE - MINNESOTA   \n",
       "1          MN     HENNEPIN    FH0062151            HCMC P-1 PHARMACY   \n",
       "2          MN     HENNEPIN    BF9051260      FAIRVIEW EDINA PHARMACY   \n",
       "3          MN     HENNEPIN    BW2234829                 WALGREEN CO.   \n",
       "4          MN     HENNEPIN    BF9051359  FAIRVIEW RIVERSIDE PHARMACY   \n",
       "\n",
       "        buyer_city  total_dosage_unit  total_records BUYER_COUNTY_x  STATE  \\\n",
       "0  BROOKLYN CENTER           12602200           3081       HENNEPIN   27.0   \n",
       "1      MINNEAPOLIS            6016100           3439       HENNEPIN   27.0   \n",
       "2            EDINA            3901930           6381       HENNEPIN   27.0   \n",
       "3      MINNEAPOLIS            3468300           5325       HENNEPIN   27.0   \n",
       "4      MINNEAPOLIS            3411700           6412       HENNEPIN   27.0   \n",
       "\n",
       "   COUNTY    year    population  pills_per_person BUYER_DEA_NO BUYER_STATE  \\\n",
       "0    53.0  2010.0  1.145884e+06          1.221977    BU6084177          MN   \n",
       "1    53.0  2010.0  1.145884e+06          0.583353    FH0062151          MN   \n",
       "2    53.0  2010.0  1.145884e+06          0.378352    BF9051260          MN   \n",
       "3    53.0  2010.0  1.145884e+06          0.336305    BW2234829          MN   \n",
       "4    53.0  2010.0  1.145884e+06          0.330817    BF9051359          MN   \n",
       "\n",
       "  BUYER_COUNTY_y      lat      lon error  \n",
       "0       HENNEPIN  45.0424 -93.3329   NaN  \n",
       "1       HENNEPIN  44.9725 -93.2622   NaN  \n",
       "2       HENNEPIN  44.8869 -93.3262   NaN  \n",
       "3       HENNEPIN  44.9204 -93.2185   NaN  \n",
       "4       HENNEPIN  44.9672 -93.2382   NaN  "
      ]
     },
     "execution_count": 68,
     "metadata": {},
     "output_type": "execute_result"
    }
   ],
   "source": [
    "MN_merge_latlon = pd.merge(MN_merge, \n",
    "                           MN_pharm_latlon, \n",
    "                           left_on='buyer_dea_no', \n",
    "                           right_on='BUYER_DEA_NO')\n",
    "MN_merge_latlon.head()"
   ]
  },
  {
   "cell_type": "markdown",
   "metadata": {},
   "source": [
    "We can now plot the pharmacies using Latitude and Longitude. Let's first render a simple map of the pharmacies before moving on to the proportional symbol map. \n",
    "\n",
    "We first need to convert our dataframe into a geodataframe."
   ]
  },
  {
   "cell_type": "code",
   "execution_count": 69,
   "metadata": {},
   "outputs": [],
   "source": [
    "import geopandas\n",
    "gdf = geopandas.GeoDataFrame(MN_merge_latlon, \n",
    "                             geometry=geopandas.points_from_xy(MN_merge_latlon.lon,\n",
    "                                                               MN_merge_latlon.lat))"
   ]
  },
  {
   "cell_type": "code",
   "execution_count": 70,
   "metadata": {},
   "outputs": [
    {
     "data": {
      "text/plain": [
       "<AxesSubplot:>"
      ]
     },
     "execution_count": 70,
     "metadata": {},
     "output_type": "execute_result"
    },
    {
     "data": {
      "image/png": "[encoded data removed]",
      "text/plain": [
       "<Figure size 432x288 with 1 Axes>"
      ]
     },
     "metadata": {},
     "output_type": "display_data"
    }
   ],
   "source": [
    "gdf.plot(color='red')"
   ]
  },
  {
   "cell_type": "markdown",
   "metadata": {},
   "source": [
    "Note that there apepars to be one observation outside the state. As previously mentioned, such errors are possible given the number of number of pharmacies in the data. To remove it we can simply drop any points that are below a lat of 43. "
   ]
  },
  {
   "cell_type": "code",
   "execution_count": 71,
   "metadata": {},
   "outputs": [],
   "source": [
    "gdf = gdf[gdf['lat'] > 43] "
   ]
  },
  {
   "cell_type": "code",
   "execution_count": 72,
   "metadata": {},
   "outputs": [
    {
     "data": {
      "text/plain": [
       "<AxesSubplot:>"
      ]
     },
     "execution_count": 72,
     "metadata": {},
     "output_type": "execute_result"
    },
    {
     "data": {
      "image/png": "[encoded data removed]",
      "text/plain": [
       "<Figure size 432x288 with 1 Axes>"
      ]
     },
     "metadata": {},
     "output_type": "display_data"
    }
   ],
   "source": [
    "gdf.plot(color='red')"
   ]
  },
  {
   "cell_type": "markdown",
   "metadata": {},
   "source": [
    "Great! You may already recognize the shape of Minnesota in the data. Let's now scale the points based on the value observed in `pills_per_person` and improve the cartographic layout of the map."
   ]
  },
  {
   "cell_type": "code",
   "execution_count": 150,
   "metadata": {},
   "outputs": [],
   "source": [
    "import matplotlib.pyplot as plt"
   ]
  },
  {
   "cell_type": "code",
   "execution_count": 153,
   "metadata": {},
   "outputs": [
    {
     "data": {
      "image/png": "[encoded data removed]",
      "text/plain": [
       "<Figure size 1152x720 with 1 Axes>"
      ]
     },
     "metadata": {},
     "output_type": "display_data"
    }
   ],
   "source": [
    "fig,ax = plt.subplots(figsize=(16,10), subplot_kw={'aspect':'equal'})\n",
    "\n",
    "plot = gdf.plot(markersize = 'pills_per_person',\n",
    "                color = \"red\", \n",
    "                ax=ax,\n",
    ")\n",
    "\n",
    "plot.set_axis_off()\n",
    "\n",
    "plot.set_title(\"Pills per person per pharmacy in Minnesota (data source: ARCOS)\")\n",
    "\n",
    "# from https://stackoverflow.com/questions/24164797/creating-a-matplotlib-scatter-legend-size-related\n",
    "import numpy as np\n",
    "msizes = np.array([0, 1, 2, 3])\n",
    "\n",
    "l1, = plt.plot([],[], 'or', markersize=msizes[0])\n",
    "l2, = plt.plot([],[], 'or', markersize=msizes[1])\n",
    "l3, = plt.plot([],[], 'or', markersize=msizes[2])\n",
    "l4, = plt.plot([],[], 'or', markersize=msizes[3])\n",
    "\n",
    "labels = ['0', '1', '10', '20']\n",
    "\n",
    "leg = plot.legend([l1, l2, l3, l4, l5, l6], \n",
    "                  labels, ncol=1, \n",
    "                  frameon=True, fontsize=10,\n",
    "                  handlelength=1, loc = 1,\n",
    "                  borderpad = 0.5,\n",
    "                  handletextpad=1, \n",
    "                  title=' Avg. pills per person\\n per pharmacy, 2006-2014', scatterpoints = 1)\n",
    "\n"
   ]
  },
  {
   "cell_type": "markdown",
   "metadata": {},
   "source": [
    "While this map is far from perfect, it is meant to get you started! Note that the extreme values make discerning between points quite difficult. However, we can tell that the largest points are certainly located outside of the downtown Minneapolis core. "
   ]
  }
 ],
 "metadata": {
  "kernelspec": {
   "display_name": "Python 3",
   "language": "python",
   "name": "python3"
  },
  "language_info": {
   "codemirror_mode": {
    "name": "ipython",
    "version": 3
   },
   "file_extension": ".py",
   "mimetype": "text/x-python",
   "name": "python",
   "nbconvert_exporter": "python",
   "pygments_lexer": "ipython3",
   "version": "3.8.4"
  }
 },
 "nbformat": 4,
 "nbformat_minor": 4
}
